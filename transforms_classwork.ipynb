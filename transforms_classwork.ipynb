{
 "cells": [
  {
   "cell_type": "markdown",
   "metadata": {},
   "source": [
    "# Mimicking the image\n",
    "\n",
    "In this task, you will be given an image, called $x$; and the result image, called $y$. Your task is to use Pillow library to augment $x$ and get as similar as possible result image to $y$. \n",
    "Your image version is called $\\hat{y}$."
   ]
  },
  {
   "cell_type": "markdown",
   "metadata": {},
   "source": [
    "Formally, please use Pillow to transform $x$ to $\\hat{y}$, where \n",
    "$ \\frac{\\sum{(y_i-\\hat{y}_i)^2}}{N}$ is **minimum** possible for all $N$ correlated pixel $y_i,\\hat{y}_i$ of all channels of $y,\\hat{y}$ respectively."
   ]
  },
  {
   "cell_type": "code",
   "execution_count": null,
   "metadata": {},
   "outputs": [],
   "source": [
    "from PIL import Image, ImageEnhance\n",
    "import numpy as np"
   ]
  },
  {
   "cell_type": "markdown",
   "metadata": {},
   "source": [
    "### Open the file"
   ]
  },
  {
   "cell_type": "code",
   "execution_count": null,
   "metadata": {},
   "outputs": [],
   "source": [
    "# Open an image\n",
    "im_original = Image.open('image/prayuth.png')\n",
    "\n",
    "problem_number = 1\n",
    "im_target = Image.open(f'image/problems/img{problem_number}.png')"
   ]
  },
  {
   "cell_type": "markdown",
   "metadata": {},
   "source": [
    "### Augmentations\n",
    "The final image should has the same size as the target one."
   ]
  },
  {
   "cell_type": "code",
   "execution_count": null,
   "metadata": {},
   "outputs": [],
   "source": [
    "# Your code here\n",
    "im = im_original.copy()\n",
    "..."
   ]
  },
  {
   "cell_type": "code",
   "execution_count": null,
   "metadata": {},
   "outputs": [],
   "source": [
    "# show image\n",
    "im.show(), im_target.show()"
   ]
  },
  {
   "cell_type": "markdown",
   "metadata": {},
   "source": [
    "### Loss testing\n",
    "$ MSE = \\frac{\\sum{(y_i-\\hat{y}_i)^2}}{N} $, where $y$ is the target image, $\\hat{y}$ is your own augemneted image, and $N$ is number of pixels in all channels. \n",
    "\n",
    "$MSE=0$ means $y$ is exactly match with $\\hat{y}$, so higher $MSE$ means the image is different and not similar to each other."
   ]
  },
  {
   "cell_type": "code",
   "execution_count": null,
   "metadata": {},
   "outputs": [],
   "source": [
    "assert im.size == im_target.size, f'Image size must be the same as the target image got {im.size} and {im_target.size}'\n",
    "\n",
    "# Convert to numpy array\n",
    "im_np = np.array(im)\n",
    "im_target_np = np.array(im_target)\n",
    "\n",
    "# Calculate the MSE between two images\n",
    "mse = np.mean((im_np - im_target_np)**2)\n",
    "mse"
   ]
  },
  {
   "cell_type": "markdown",
   "metadata": {},
   "source": [
    "## Write your final augmentations for each problem here"
   ]
  },
  {
   "cell_type": "code",
   "execution_count": null,
   "metadata": {},
   "outputs": [],
   "source": [
    "# 1"
   ]
  },
  {
   "cell_type": "code",
   "execution_count": null,
   "metadata": {},
   "outputs": [],
   "source": [
    "# 2"
   ]
  },
  {
   "cell_type": "code",
   "execution_count": null,
   "metadata": {},
   "outputs": [],
   "source": [
    "# 3"
   ]
  },
  {
   "cell_type": "code",
   "execution_count": null,
   "metadata": {},
   "outputs": [],
   "source": [
    "# 4"
   ]
  }
 ],
 "metadata": {
  "kernelspec": {
   "display_name": "ml_dev",
   "language": "python",
   "name": "python3"
  },
  "language_info": {
   "codemirror_mode": {
    "name": "ipython",
    "version": 3
   },
   "file_extension": ".py",
   "mimetype": "text/x-python",
   "name": "python",
   "nbconvert_exporter": "python",
   "pygments_lexer": "ipython3",
   "version": "3.10.8"
  },
  "orig_nbformat": 4
 },
 "nbformat": 4,
 "nbformat_minor": 2
}
